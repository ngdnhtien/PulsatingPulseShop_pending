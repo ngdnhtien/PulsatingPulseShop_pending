{
 "cells": [
  {
   "cell_type": "markdown",
   "metadata": {},
   "source": [
    "# High fidelity control of a superconducting qutrit"
   ]
  },
  {
   "cell_type": "code",
   "execution_count": 1,
   "metadata": {},
   "outputs": [],
   "source": [
    "import os\n",
    "os.chdir('/Users/ngdnh/Codespace/PulsatingPulseShop/')"
   ]
  },
  {
   "cell_type": "markdown",
   "metadata": {},
   "source": [
    "## Context"
   ]
  },
  {
   "cell_type": "markdown",
   "metadata": {},
   "source": [
    "People want to control superconducting qutrits with high fidelity."
   ]
  },
  {
   "cell_type": "markdown",
   "metadata": {},
   "source": [
    "## Problematic"
   ]
  },
  {
   "cell_type": "markdown",
   "metadata": {},
   "source": [
    "1. The presence of another computational state, $|2\\rangle$, introduces two more error sources, namely virtual and real (leakage) transitions within and out of the computational subspace.\n",
    "2. Extending qubit-like calibration methods do not capture the effect introduced by the presence of new error sources.\n",
    "3. Logical errors associated with different precession rates in each qutrit's subspace, resulting in non-trivial dynamical phases, called \"phase advance\"."
   ]
  },
  {
   "cell_type": "markdown",
   "metadata": {},
   "source": [
    "## Methodology"
   ]
  },
  {
   "cell_type": "markdown",
   "metadata": {},
   "source": [
    "### Characterization of error sources"
   ]
  },
  {
   "cell_type": "markdown",
   "metadata": {},
   "source": [
    "To illustrate the fact that extending qubit-like calibration methods do not capture the effect introduced by the presence of new errors source, let us look at the coherent error amplifying sequence for a $\\pi/2$ pulse on the (12) subspace. The sequence is described as below. The pulse used was a Gaussian pulse with amplitude calibrated by the Rabi experiment.\n",
    "\n",
    "<img src=\"./figures/472923556_612998171671868_5331845852916641489_n.jpg\" alt=\"drawing\" width=\"720\"/>\n",
    "\n",
    "The sequence boosts sensitivity to over/under-rotation errors. It was not designed to detect phase errors. \n",
    "\n",
    "Here's the result\n",
    "\n",
    "<img src=\"./figures/fig1a_story.png\" alt=\"drawing\" width=\"720\"/>"
   ]
  },
  {
   "cell_type": "markdown",
   "metadata": {},
   "source": [
    "In this case, the error is over-rotation. $\\pi/2+\\epsilon$. To extract the over-rotated angle $\\epsilon$, we have two methods. First, we use a master-equation-based model to extract $\\epsilon$. Here's the result.\n",
    "\n",
    "<img src=\"./figures/fig1a_1fit_story.png\" alt=\"drawing\" width=\"720\"/>\n",
    "\n",
    "From the plot, $\\epsilon/(\\pi/2)\\approx 3.7$%. We have another model, termed \"heuristic model\", because it's a guess. It assumes the qutrit takes on the dynamics of a spin-1/2 particle in a oscillating external field, $H=(\\frac{\\pi}{2}+\\epsilon)\\sigma_x + \\delta\\sigma_z$, where $\\delta$ represents the aggregate effect of phase errors. Here's the result.\n",
    "\n",
    "<img src=\"./figures/fig1a_2fits_story.png\" alt=\"drawing\" width=\"720\"/>\n",
    "\n",
    "From the plot, $\\epsilon/(\\pi/2)\\approx 2.7$%. We **therefore** have a difference to settle."
   ]
  }
 ],
 "metadata": {
  "kernelspec": {
   "display_name": "Python 3",
   "language": "python",
   "name": "python3"
  },
  "language_info": {
   "codemirror_mode": {
    "name": "ipython",
    "version": 3
   },
   "file_extension": ".py",
   "mimetype": "text/x-python",
   "name": "python",
   "nbconvert_exporter": "python",
   "pygments_lexer": "ipython3",
   "version": "3.11.7"
  }
 },
 "nbformat": 4,
 "nbformat_minor": 2
}
