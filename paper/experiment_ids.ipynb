{
 "cells": [
  {
   "cell_type": "code",
   "execution_count": 4,
   "metadata": {},
   "outputs": [],
   "source": [
    "import os\n",
    "os.chdir('/Users/ngdnh/Codespace/PulsatingPulseShop/')\n",
    "\n",
    "%config InlineBackend.figure_formats = ['svg']"
   ]
  },
  {
   "cell_type": "markdown",
   "metadata": {},
   "source": [
    "# Rabi oscillation"
   ]
  },
  {
   "cell_type": "markdown",
   "metadata": {},
   "source": [
    "### 1. Experiment ID: `cxpsz544a290008xhaa0`\n",
    "\n",
    "Normal Rabi oscillation experiment. Used two $\\pi/2$ pulses. Shots was increased to 10k. Focused in range from $-0.1$ to $0.4$ for maximum resolvability of the Rabi amplitude.\n",
    "\n",
    "The obtained amplitude: `0.2383838383838384`. It fits quite well. Here's the result.\n",
    "\n",
    "<img src=\"./figures/cxpsz544a290008xhaa0.png\" alt=\"drawing\" width=\"480\"/>"
   ]
  },
  {
   "cell_type": "markdown",
   "metadata": {},
   "source": [
    "### 2. Experiment ID: `cxsfpfswk6yg008ht4s0`\n",
    "\n",
    "Used just one $\\pi$ pulse. Number of shots was 10k. Focused in range from $-0.1$ to $0.6$. The obtained amplitude: `0.4797979797979798`. \n",
    "\n",
    "<img src=\"./figures/cxsfpfswk6yg008ht4s0.png\" alt=\"drawing\" width=\"480\"/>"
   ]
  },
  {
   "cell_type": "markdown",
   "metadata": {},
   "source": [
    "### 3. Experiment ID: `cyb4se57v8tg008fxxeg`\n",
    "\n",
    "*For corrected randomized benchmarking experiments. Used **TWO** $\\pi/2$ pulse. Shots was 10k. Migrated to new notebook and new Sampler (in place of backend.run()). \n",
    "\n",
    "DID use reset. The obtained amplitude: `0.23678929765886286`. Fits very well.\n",
    "\n",
    "<img src=\"./figures/cyb4se57v8tg008fxxeg.png\" alt=\"drawing\" width=\"480\"/>"
   ]
  },
  {
   "cell_type": "markdown",
   "metadata": {},
   "source": [
    "# Discriminator\n",
    "\n",
    "For circuit 0: `cy22fmycw2k0008jg8m0`, circuit 1: `cy22fne6vek0008rbv8g`, and circuit 2: `cy22wdh9b62g008h80y0`. Result is here:\n",
    "\n",
    "<img src=\"./figures/discrim.png\" alt=\"drawing\" width=\"960\"/>"
   ]
  },
  {
   "cell_type": "markdown",
   "metadata": {},
   "source": [
    "# T1"
   ]
  },
  {
   "cell_type": "markdown",
   "metadata": {},
   "source": [
    "One channel case: `cy5we10rta1g00873a50`. Two channels case: `cy5wyv301rbg008j6grg`. Results are here\n",
    "\n",
    "<img src=\"./figures/1channel.png\" alt=\"drawing\" width=\"480\"/>\n",
    "\n",
    "<img src=\"./figures/2channels.png\" alt=\"drawing\" width=\"487\"/>"
   ]
  },
  {
   "cell_type": "markdown",
   "metadata": {},
   "source": [
    "# T2"
   ]
  },
  {
   "cell_type": "markdown",
   "metadata": {},
   "source": [
    "Ramsey experiment, detuning 1 MHz, `cyfv8xb01rbg008fhvx0`. This can be used to estimate $T_2$. Result is here\n",
    "\n",
    "<img src=\"./figures/cyfv8xb01rbg008fhvx0.png\" alt=\"drawing\" width=\"720\"/>"
   ]
  },
  {
   "cell_type": "markdown",
   "metadata": {},
   "source": [
    "Then I tried to observe the peaks caused by dephasing. This one is from `cyfv8na01rbg008fhvw0`. Detuning was 0.1.\n",
    "\n",
    "<img src=\"./figures/cyfv8na01rbg008fhvw0.png\" alt=\"drawing\" width=\"720\"/>"
   ]
  },
  {
   "cell_type": "markdown",
   "metadata": {},
   "source": [
    "Then I tried to observe the peaks caused by dephasing. This one is from `cyfq51wcw2k00088wv4g`. Detuning was 0.5.\n",
    "\n",
    "<img src=\"./figures/cyfq51wcw2k00088wv4g.png\" alt=\"drawing\" width=\"720\"/>"
   ]
  },
  {
   "cell_type": "markdown",
   "metadata": {},
   "source": [
    "# Coherent amplitude errors"
   ]
  },
  {
   "cell_type": "markdown",
   "metadata": {},
   "source": [
    "### Experiment ID: `cw0s2fsrxqkg008e2cag`\n",
    "\n",
    "Amplitude was `0.25136`. No drag, no scaling. Basically uncorrected.\n",
    "\n",
    "<img src=\"./figures/cw0s2fsrxqkg008e2cag.png\" alt=\"drawing\" width=\"480\"/>"
   ]
  },
  {
   "cell_type": "markdown",
   "metadata": {},
   "source": [
    "### Experiment ID: `cw0w06rvka8g008b997g`\n",
    "\n",
    "Amplitude was `0.25136`. WITH drag, $-0.4141$, no scaling.\n",
    "\n",
    "<img src=\"./figures/cw0w06rvka8g008b997g.png\" alt=\"drawing\" width=\"480\"/>"
   ]
  },
  {
   "cell_type": "markdown",
   "metadata": {},
   "source": [
    "### Experiment ID: `cw24b0crxqkg008e56j0`\n",
    "\n",
    "Amplitude was `0.23629` (SCALED). WITH drag, $-0.4141$.\n",
    "\n",
    "<img src=\"./figures/cw24b0crxqkg008e56j0.png\" alt=\"drawing\" width=\"480\"/>"
   ]
  },
  {
   "cell_type": "markdown",
   "metadata": {},
   "source": [
    "### Experiment ID: `cw13qsqvka8g008b9vg0`\n",
    "\n",
    "Amplitude was `0.23629` (SCALED). WITH drag, $-0.4141$.\n",
    "\n",
    "<img src=\"./figures/cw13qsqvka8g008b9vg0.png\" alt=\"drawing\" width=\"480\"/>"
   ]
  },
  {
   "cell_type": "markdown",
   "metadata": {},
   "source": [
    "### Experiment ID: `cw0wed14v2e0008sg2gg`\n",
    "\n",
    "Amplitude was `0.23629` (SCALED). WITH drag, $-0.4141$.\n",
    "\n",
    "<img src=\"./figures/cw0wed14v2e0008sg2gg.png\" alt=\"drawing\" width=\"480\"/>"
   ]
  },
  {
   "cell_type": "markdown",
   "metadata": {},
   "source": [
    "### Experiment ID: `cvr07a5zrwzg008axdc0`\n",
    "\n",
    "Without drag, scaled from without drag"
   ]
  },
  {
   "cell_type": "markdown",
   "metadata": {},
   "source": [
    "---"
   ]
  },
  {
   "cell_type": "markdown",
   "metadata": {},
   "source": [
    "### Experiment ID: `cxq97543wrp0008kjp30`\n",
    "\n",
    "Intentionally adding 1% of over-rotation error."
   ]
  },
  {
   "cell_type": "markdown",
   "metadata": {},
   "source": [
    "### Experiment ID: `cxqf2yb4a290008xk0n0` (choose this for uncorrected gate)\n",
    "\n",
    "Intentionally adding 3% of over-rotation error."
   ]
  },
  {
   "cell_type": "markdown",
   "metadata": {},
   "source": [
    "### Experiment ID: `cxqzkex082700083ynxg`\n",
    "\n",
    "Intentionally adding 5% of over-rotation error."
   ]
  },
  {
   "cell_type": "markdown",
   "metadata": {},
   "source": [
    "### Experiment ID: `cxqzqfxwk6yg008hq2k0`\n",
    "\n",
    "Intentionally adding 7% of over-rotation error"
   ]
  },
  {
   "cell_type": "markdown",
   "metadata": {},
   "source": [
    "### Experiment ID: `cxqzry34a290008xmaj0`\n",
    "\n",
    "Intentionally adding 9% of over-rotation error"
   ]
  },
  {
   "cell_type": "markdown",
   "metadata": {},
   "source": [
    "### Experiment ID: `cxr33044a290008xmh10`\n",
    "\n",
    "Intentionally adding 11% of over-rotation error"
   ]
  },
  {
   "cell_type": "markdown",
   "metadata": {},
   "source": [
    "### Experiment ID: `cxr5ydhy1ae0008n19ag`\n",
    "\n",
    "Intentionally adding 13% of over-rotation error"
   ]
  },
  {
   "cell_type": "markdown",
   "metadata": {},
   "source": [
    "---"
   ]
  },
  {
   "cell_type": "markdown",
   "metadata": {},
   "source": [
    "### Experiment ID: `cyf0kfx9b62g008jp5sg`\n",
    "\n",
    "Used Rabi-calibrated amplitude. Seems like it's underrestimating epsilon. The yielded epsilon is `1.191e-02`. No DRAG correction."
   ]
  },
  {
   "cell_type": "markdown",
   "metadata": {},
   "source": [
    "# Ramsey\n",
    "\n",
    "We need two Ramseys. The first one to measure the $T_2$ time, and the second one to measure the two peaks."
   ]
  },
  {
   "cell_type": "markdown",
   "metadata": {},
   "source": [
    "# DRAPE"
   ]
  },
  {
   "cell_type": "markdown",
   "metadata": {},
   "source": [
    "### *Experiment ID: `cybdjk2cw2k0008kfs10`, `cyf2m287v8tg008hdsx0`\n",
    "\n",
    "Looks good. The first one is the most convergent among all experiments, I guess. `0.23678929765886286`. The second one resulted from an attempt to re-focus the Bloch vector due to predicted dephasing, but failed. However, it speaks volume about the fact that this SNR can be manipulated. Requires further investigation!"
   ]
  },
  {
   "cell_type": "markdown",
   "metadata": {},
   "source": [
    "### Experiment ID: `cy699tfnrmz00085kdtg`\n",
    "\n",
    "Relatively recent one, `0.23557046979865773`. Indicating a different DRAG param but on the 0.5 line. En fait c'est la ligne de base."
   ]
  },
  {
   "cell_type": "markdown",
   "metadata": {},
   "source": [
    "### Experiment ID: `cy99xfn7v8tg008fs4e0`\n",
    "\n",
    "L'experience qui dicte la ligne de base."
   ]
  },
  {
   "cell_type": "markdown",
   "metadata": {},
   "source": [
    "### Experiment ID: `cwhvkgy543p00086em8g`\n",
    "\n",
    "This one probe the 7, 9, 11 range. The deviation is largely reduced. I guess this can be explain by the fact that the $\\cos\\epsilon$ term grows larger than the random fluctuation term."
   ]
  },
  {
   "cell_type": "markdown",
   "metadata": {},
   "source": [
    "### *Experiment ID: `cw64ghtxa9wg008vqy4g`, `cw63e40vwdtg0081kj60`, `cw6n0bhggr6g0087cz80`, `cw0tm9154nq0008x5rdg`\n",
    "\n",
    "Old ones. Looking good. Intended to be on the paper."
   ]
  },
  {
   "cell_type": "markdown",
   "metadata": {},
   "source": [
    "### Experiment ID: `cw6dsf5bhxtg008wbkr0`, `cw6fbkyjyrs0008gj6zg`, `cw9s6e99ezk000815vyg`, `cw9t33wjzdhg008eh20g`, `cw9z24g2802g0081p1c0`\n",
    "\n",
    "Old ones. These are the same experiments as above (direcly above this cell, cf. `cw6n0bhggr6g0087cz80`), only that it's done at another point in time. Do not converge anymore. But I realize that they short of all shifted to the right, it means that I should have changed something to the experimental parameters..."
   ]
  },
  {
   "cell_type": "markdown",
   "metadata": {},
   "source": [
    "### Experiment ID: `cvt79qyx1h0g0082q4q0`, `cvtg1bdw07b0008m7ehg`, `cvtjckj709200088jmbg`\n",
    "\n",
    "Old ones. Not positioning at pi/2, thus not having good resolution."
   ]
  },
  {
   "cell_type": "markdown",
   "metadata": {},
   "source": [
    "### Experiment ID: `cw6cg8hvwdtg008knj6g`, `cw6d2ykpcbmg0089dtw0`\n",
    "\n",
    "Two old ones. The first one `amp_sx12=0.2362`, looks particularly bad. Dunno why. The second one, `amp_sx12=0.2361` looks better, in the sense that that converge near -0.415 (what we estimate to the the good value) and closer to 0.5. Hmmm."
   ]
  },
  {
   "cell_type": "markdown",
   "metadata": {},
   "source": [
    "### Experiment ID: `cw61yptxa9wg008a8jb0`\n",
    "\n",
    "An old one. Amp was `0.25`. This says that the further away you're from the correct amp, the further you're away from 0.5."
   ]
  },
  {
   "cell_type": "markdown",
   "metadata": {},
   "source": [
    "### Experiment ID: `cwhtad131we000881mgg`, `cwhvkgy543p00086em8g`\n",
    "\n",
    "Two relatively more recent experiments. Used 7, 9, 11 repetitions. The second one has a slightly larger amplitude. Indicate that SN ratio is enhanced when increasing repetition."
   ]
  },
  {
   "cell_type": "markdown",
   "metadata": {},
   "source": [
    "# APE"
   ]
  },
  {
   "cell_type": "markdown",
   "metadata": {},
   "source": [
    "### Experiment ID: `cw0sjvk79ws0008z27j0`, `cw0t1qe4v2e0008sfxeg`, `cw0twskjz3x0008j6xx0`, `cw0v84079ws0008z2as0`\n",
    "\n",
    "W/o DRAG `cw0sjvk79ws0008z27j0` 1-3, `cw0t1qe4v2e0008sfxeg` 5-7, and with DRAG `cw0twskjz3x0008j6xx0` 1-3, `cw0v84079ws0008z2as0` 5-7."
   ]
  }
 ],
 "metadata": {
  "kernelspec": {
   "display_name": "Python 3",
   "language": "python",
   "name": "python3"
  },
  "language_info": {
   "codemirror_mode": {
    "name": "ipython",
    "version": 3
   },
   "file_extension": ".py",
   "mimetype": "text/x-python",
   "name": "python",
   "nbconvert_exporter": "python",
   "pygments_lexer": "ipython3",
   "version": "3.11.7"
  }
 },
 "nbformat": 4,
 "nbformat_minor": 2
}
