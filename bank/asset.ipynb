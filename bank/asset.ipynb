{
 "cells": [
  {
   "cell_type": "code",
   "execution_count": 1,
   "metadata": {},
   "outputs": [],
   "source": [
    "import json"
   ]
  },
  {
   "cell_type": "code",
   "execution_count": 5,
   "metadata": {},
   "outputs": [
    {
     "data": {
      "text/plain": [
       "('8e073edeb624dfc06f6e8eeccc84dceb8c7b3aa147ea7b7d13ce6e1f5f3a56b4664f4a5bb290e42726dc977c37de0a3ec26c7a034ac3404092db26b35b125a15',\n",
       " 'ibm-q-nus/default/default')"
      ]
     },
     "execution_count": 5,
     "metadata": {},
     "output_type": "execute_result"
    }
   ],
   "source": [
    "with open(\"/Users/ngdnh/.qiskit/qiskit-ibm.json\", \"r\") as jF:\n",
    "    credential = json.load(jF)\n",
    "\n",
    "credential['default-ibm-quantum']['token'], credential['default-ibm-quantum']['instance']\n"
   ]
  },
  {
   "cell_type": "markdown",
   "metadata": {},
   "source": [
    "# Get available token"
   ]
  },
  {
   "cell_type": "code",
   "execution_count": 3,
   "metadata": {},
   "outputs": [],
   "source": [
    "with open(\"/Users/ngdnh/.qiskit/qiskit-ibm.json\", \"r\") as jF:\n",
    "    credential = json.load(jF)\n",
    "\n",
    "with open(\"/Users/ngdnh/.qiskit/bank.json\", \"r\") as bank:\n",
    "    credential_bank = json.load(bank)\n",
    "\n",
    "credential_bank = {key: value for key, value in credential_bank.items() if value['capacity'] == \"full\"}\n",
    "token_available = next(iter(credential_bank))\n",
    "\n",
    "credential['default-ibm-quantum']['token'] = credential_bank[token_available]['token']\n",
    "\n",
    "with open(\"/Users/ngdnh/.qiskit/qiskit-ibm.json\", \"w\") as jF:\n",
    "    json.dump(credential, jF)"
   ]
  },
  {
   "cell_type": "markdown",
   "metadata": {},
   "source": [
    "# Report exhausted token"
   ]
  },
  {
   "cell_type": "code",
   "execution_count": 15,
   "metadata": {},
   "outputs": [],
   "source": [
    "with open(\"/Users/ngdnh/.qiskit/bank.json\", \"r\") as bank:\n",
    "    credential_bank = json.load(bank)\n",
    "\n",
    "credential_bank[token_available]['capacity'] = 'exhausted'\n",
    "\n",
    "with open(\"/Users/ngdnh/.qiskit/bank.json\", \"w\") as bank:\n",
    "    json.dump(credential_bank, bank)"
   ]
  },
  {
   "cell_type": "markdown",
   "metadata": {},
   "source": [
    "# Report faulty token"
   ]
  },
  {
   "cell_type": "code",
   "execution_count": 16,
   "metadata": {},
   "outputs": [],
   "source": [
    "with open(\"/Users/ngdnhtien/.qiskit/bank.json\", \"r\") as bank:\n",
    "    credential_bank = json.load(bank)\n",
    "\n",
    "credential_bank[token_available]['capacity'] = 'faulty'\n",
    "\n",
    "with open(\"/Users/ngdnhtien/.qiskit/bank.json\", \"w\") as bank:\n",
    "    json.dump(credential_bank, bank)"
   ]
  },
  {
   "cell_type": "markdown",
   "metadata": {},
   "source": [
    "# Reset majority to full capacity"
   ]
  },
  {
   "cell_type": "code",
   "execution_count": 5,
   "metadata": {},
   "outputs": [],
   "source": [
    "with open('/Users/ngdnhtien/.qiskit/bank.json', 'r') as bank:\n",
    "    credential_bank = json.load(bank)\n",
    "\n",
    "for key in credential_bank:\n",
    "    credential_bank[key]['capacity'] = 'full'\n",
    "\n",
    "with open(\"/Users/ngdnhtien/.qiskit/bank.json\", \"w\") as bank:\n",
    "    json.dump(credential_bank, bank)"
   ]
  }
 ],
 "metadata": {
  "kernelspec": {
   "display_name": "Python 3",
   "language": "python",
   "name": "python3"
  },
  "language_info": {
   "codemirror_mode": {
    "name": "ipython",
    "version": 3
   },
   "file_extension": ".py",
   "mimetype": "text/x-python",
   "name": "python",
   "nbconvert_exporter": "python",
   "pygments_lexer": "ipython3",
   "version": "3.11.7"
  }
 },
 "nbformat": 4,
 "nbformat_minor": 2
}
